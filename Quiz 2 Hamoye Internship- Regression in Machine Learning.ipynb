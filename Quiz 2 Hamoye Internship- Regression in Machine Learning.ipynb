{
 "cells": [
  {
   "cell_type": "markdown",
   "id": "2077221c",
   "metadata": {},
   "source": [
    "<h1>Quiz 2 Hamoye Internship- Regression in Machine Learning</h1>"
   ]
  },
  {
   "cell_type": "markdown",
   "id": "69ef8191",
   "metadata": {},
   "source": [
    "<h4>Name: Peter Wainaina </h4>\n",
    "Student ID: 16cc46827641f000    "
   ]
  },
  {
   "cell_type": "markdown",
   "id": "a74b68d3",
   "metadata": {},
   "source": [
    "<h3> Question 1: <h3>The percent of the total variation of the dependent variable Y explained by the set of independent variables X is measured by  "
   ]
  },
  {
   "cell_type": "markdown",
   "id": "658cb29b",
   "metadata": {},
   "source": [
    "Answer: coefficient of determination."
   ]
  },
  {
   "cell_type": "markdown",
   "id": "ec0fb7c7",
   "metadata": {},
   "source": [
    "<h3> Question 2: <h3>How do you define a Residual?"
   ]
  },
  {
   "cell_type": "markdown",
   "id": "3d353eb4",
   "metadata": {},
   "source": [
    "Answer: Y - Ŷ"
   ]
  },
  {
   "cell_type": "markdown",
   "id": "6d45904a",
   "metadata": {},
   "source": [
    "<h3> Question 3: <h3>The straight line graph of the equation Y = a + BX, the slope is horizontal if"
   ]
  },
  {
   "cell_type": "markdown",
   "id": "aa1497c0",
   "metadata": {},
   "source": [
    "Answer: b = 0"
   ]
  },
  {
   "cell_type": "markdown",
   "id": "f7086c7e",
   "metadata": {},
   "source": [
    "<h3> Question 4: <h3>Which of the one is true about Heteroskedasticity?"
   ]
  },
  {
   "cell_type": "markdown",
   "id": "86bf885f",
   "metadata": {},
   "source": [
    "Answer: Linear Regression with varying error terms"
   ]
  },
  {
   "cell_type": "markdown",
   "id": "5522ff33",
   "metadata": {},
   "source": [
    "<h3> Question 5: <h3>Generally, which of the following method(s) is used for predicting continuous dependent variables?\n",
    "\n",
    "1. Linear Regression\n",
    "\n",
    "2. Logistic Regression"
   ]
  },
  {
   "cell_type": "markdown",
   "id": "d604c575",
   "metadata": {},
   "source": [
    "Answer:1 only"
   ]
  },
  {
   "cell_type": "markdown",
   "id": "5eac0a00",
   "metadata": {},
   "source": [
    "<h3> Question 6: <h3>From the following options below, which of these is/are true about “Ridge” or “Lasso” regression methods in case of feature selection?"
   ]
  },
  {
   "cell_type": "markdown",
   "id": "d38b33d1",
   "metadata": {},
   "source": [
    "Answer: Lasso regression uses subset selection of features"
   ]
  },
  {
   "cell_type": "markdown",
   "id": "fa026523",
   "metadata": {},
   "source": [
    "<h3> Question 7 <h3>Which of the following sentences is/are true about outliers in Linear Regression:"
   ]
  },
  {
   "cell_type": "markdown",
   "id": "2efa1f99",
   "metadata": {},
   "source": [
    "Answer: Linear regression is sensitive to outliers"
   ]
  },
  {
   "cell_type": "markdown",
   "id": "ce9e3cfd",
   "metadata": {},
   "source": [
    "<h3> Question 8: <h3>Which of the following metrics can be used for evaluating regression models?\n",
    "\n",
    "1. R Squared\n",
    "\n",
    "2. Adjusted R Squared\n",
    "\n",
    "3. F Statistics\n",
    "\n",
    "4. RMSE / MSE / MAE"
   ]
  },
  {
   "cell_type": "markdown",
   "id": "37636600",
   "metadata": {},
   "source": [
    "Answer: 1, 2, 3 and 4"
   ]
  },
  {
   "cell_type": "markdown",
   "id": "f24a4379",
   "metadata": {},
   "source": [
    "<h3> Question 9: <h3>A best fit line relating X and Y has a R-Squared value of 0.75. How do I interpret this information?"
   ]
  },
  {
   "cell_type": "markdown",
   "id": "98a79fe1",
   "metadata": {},
   "source": [
    "Answer: 75% of the variance in Y is explained by X"
   ]
  },
  {
   "cell_type": "markdown",
   "id": "560ce97b",
   "metadata": {},
   "source": [
    "<h3> Question 10: <h3>Which of the following measures is optimal for comparing the goodness of the fit of competing regression models involving the same dependent variable?"
   ]
  },
  {
   "cell_type": "markdown",
   "id": "55d093d6",
   "metadata": {},
   "source": [
    "Answer: R-square"
   ]
  },
  {
   "cell_type": "markdown",
   "id": "775b9911",
   "metadata": {},
   "source": [
    "<h3> Question 11: <h3>The Lasso can be interpreted as least-squares linear regression where:"
   ]
  },
  {
   "cell_type": "markdown",
   "id": "4a33e419",
   "metadata": {},
   "source": [
    "Answer: Weights are regularized with the L1 norm"
   ]
  },
  {
   "cell_type": "markdown",
   "id": "233bd7ca",
   "metadata": {},
   "source": [
    "<h3> Question 12: <h3>From the dataset, fit a linear model on the relationship between the temperature in the living room in Celsius (x = T2) and the temperature outside the building (y = T6). What is the R^2 value in two d.p.?"
   ]
  },
  {
   "cell_type": "markdown",
   "id": "55e4ee4c",
   "metadata": {},
   "source": [
    "Answer: 0.64\n",
    "        \n",
    "working in the cells below: "
   ]
  },
  {
   "cell_type": "code",
   "execution_count": 1,
   "id": "39113924",
   "metadata": {},
   "outputs": [],
   "source": [
    "import numpy as np\n",
    "import pandas as pd\n",
    "\n",
    "df = pd.read_csv(\"energydata_complete.csv\", parse_dates=[\"date\"])"
   ]
  },
  {
   "cell_type": "code",
   "execution_count": 2,
   "id": "a21ac2db",
   "metadata": {},
   "outputs": [],
   "source": [
    "from sklearn.model_selection import train_test_split\n",
    "\n",
    "x= df.drop(\"T6\", axis=1)\n",
    "y= df[\"T6\"]\n",
    "x_train, x_test, y_train, y_test = train_test_split(x,y, test_size=0.3, random_state=42)"
   ]
  },
  {
   "cell_type": "code",
   "execution_count": 3,
   "id": "09f600bb",
   "metadata": {},
   "outputs": [
    {
     "name": "stdout",
     "output_type": "stream",
     "text": [
      "The r2_score is 0.64\n"
     ]
    }
   ],
   "source": [
    "from sklearn.linear_model import LinearRegression\n",
    "from sklearn.metrics import (r2_score, mean_absolute_error, mean_squared_error)\n",
    "\n",
    "model = LinearRegression().fit(x_train[[\"T2\"]], y_train)\n",
    "pred = model.predict(x_test[[\"T2\"]])\n",
    "val = round(r2_score(y_test, pred), 2)\n",
    "print(f\"The r2_score is {val}\")"
   ]
  },
  {
   "cell_type": "markdown",
   "id": "0c8ef2cc",
   "metadata": {},
   "source": [
    "<h3> Question 13: <h3>Normalize the dataset using the MinMaxScaler after removing the following columns: [“date”, “lights”]. The target variable is “Appliances”. Use a 70-30 train-test set split with a random state of 42 (for reproducibility). Run a multiple linear regression using the training set and evaluate your model on the test set. Answer the following questions:\n",
    "\n",
    "What is the Mean Absolute Error (in two decimal places)?"
   ]
  },
  {
   "cell_type": "markdown",
   "id": "d93954d1",
   "metadata": {},
   "source": [
    "Answer: 0.05\n",
    "        \n",
    "working in the cell below: "
   ]
  },
  {
   "cell_type": "code",
   "execution_count": 4,
   "id": "12dc045f",
   "metadata": {},
   "outputs": [
    {
     "name": "stdout",
     "output_type": "stream",
     "text": [
      "Mean Absolute Error is 0.05\n"
     ]
    }
   ],
   "source": [
    "from sklearn.preprocessing import MinMaxScaler\n",
    "\n",
    "data_copy = df.copy()\n",
    "data_copy = data_copy.drop([\"date\",\"lights\"], axis=1)\n",
    "\n",
    "scaler = MinMaxScaler()\n",
    "\n",
    "data_norm = pd.DataFrame(scaler.fit_transform(data_copy), columns= data_copy.columns)\n",
    "\n",
    "features= data_norm.drop(\"Appliances\", axis=1) # independent variables\n",
    "target= data_norm[\"Appliances\"] # target variable\n",
    "x_train, x_test, y_train, y_test = train_test_split(features,target, test_size=0.3,random_state=42)\n",
    "\n",
    "\n",
    "model_2 = LinearRegression()\n",
    "model_2.fit(x_train, y_train)\n",
    "preds= model_2.predict(x_test)\n",
    "mae = round(mean_absolute_error(y_test, preds),2)\n",
    "print(f\"Mean Absolute Error is {mae}\")"
   ]
  },
  {
   "cell_type": "markdown",
   "id": "2bace7f3",
   "metadata": {},
   "source": [
    "<h3> Question 14 </h3>What is the Residual Sum of Squares (in two decimal places)?"
   ]
  },
  {
   "cell_type": "markdown",
   "id": "7ac9e8f7",
   "metadata": {},
   "source": [
    "Answer: 45.35\n",
    "        \n",
    "working in the cell below: "
   ]
  },
  {
   "cell_type": "code",
   "execution_count": 5,
   "id": "db23d4d5",
   "metadata": {},
   "outputs": [
    {
     "name": "stdout",
     "output_type": "stream",
     "text": [
      "Residual Sum of Squares is 45.35\n"
     ]
    }
   ],
   "source": [
    "resid = round(np.sum(np.square(preds - y_test)), 2)\n",
    "print(f\"Residual Sum of Squares is {resid}\")"
   ]
  },
  {
   "cell_type": "markdown",
   "id": "45bddfed",
   "metadata": {},
   "source": [
    "<h3> Question 15 </h3>What is the Root Mean Squared Error (in three decimal places)?"
   ]
  },
  {
   "cell_type": "markdown",
   "id": "d106fbd0",
   "metadata": {},
   "source": [
    "Answer: 0.088\n",
    "        \n",
    "working in the cell below: "
   ]
  },
  {
   "cell_type": "code",
   "execution_count": 6,
   "id": "9477198f",
   "metadata": {},
   "outputs": [
    {
     "name": "stdout",
     "output_type": "stream",
     "text": [
      "Root Mean Squared Error is 0.088\n"
     ]
    }
   ],
   "source": [
    "rmse = round(mean_squared_error(y_test, preds, squared=False), 3)\n",
    "print(f\"Root Mean Squared Error is {rmse}\")"
   ]
  },
  {
   "cell_type": "markdown",
   "id": "fc654752",
   "metadata": {},
   "source": [
    "<h3> Question 16 </h3>What is the Coefficient of Determination (in two decimal places)?"
   ]
  },
  {
   "cell_type": "markdown",
   "id": "49c84592",
   "metadata": {},
   "source": [
    "Answer: 0.15\n",
    "        \n",
    "working in the cell below: "
   ]
  },
  {
   "cell_type": "code",
   "execution_count": 7,
   "id": "0e536e30",
   "metadata": {},
   "outputs": [
    {
     "name": "stdout",
     "output_type": "stream",
     "text": [
      "Coefficient of Determination is 0.15\n"
     ]
    }
   ],
   "source": [
    "coeff = round(r2_score(y_test, preds), 2)\n",
    "print(f\"Coefficient of Determination is {coeff}\")"
   ]
  },
  {
   "cell_type": "markdown",
   "id": "21346379",
   "metadata": {},
   "source": [
    "<h3> Question 17 </h3>Obtain the feature weights from your linear model above. Which features have the lowest and highest weights respectively?"
   ]
  },
  {
   "cell_type": "markdown",
   "id": "06f8673a",
   "metadata": {},
   "source": [
    "Answer: RH_2, RH_1\n",
    "        \n",
    "working in the cell below: "
   ]
  },
  {
   "cell_type": "code",
   "execution_count": 8,
   "id": "8df0bb56",
   "metadata": {},
   "outputs": [
    {
     "data": {
      "text/html": [
       "<div>\n",
       "<style scoped>\n",
       "    .dataframe tbody tr th:only-of-type {\n",
       "        vertical-align: middle;\n",
       "    }\n",
       "\n",
       "    .dataframe tbody tr th {\n",
       "        vertical-align: top;\n",
       "    }\n",
       "\n",
       "    .dataframe thead th {\n",
       "        text-align: right;\n",
       "    }\n",
       "</style>\n",
       "<table border=\"1\" class=\"dataframe\">\n",
       "  <thead>\n",
       "    <tr style=\"text-align: right;\">\n",
       "      <th></th>\n",
       "      <th>Features</th>\n",
       "      <th>Weights</th>\n",
       "    </tr>\n",
       "  </thead>\n",
       "  <tbody>\n",
       "    <tr>\n",
       "      <th>0</th>\n",
       "      <td>RH_2</td>\n",
       "      <td>-0.456698</td>\n",
       "    </tr>\n",
       "    <tr>\n",
       "      <th>1</th>\n",
       "      <td>T_out</td>\n",
       "      <td>-0.321860</td>\n",
       "    </tr>\n",
       "    <tr>\n",
       "      <th>2</th>\n",
       "      <td>T2</td>\n",
       "      <td>-0.236178</td>\n",
       "    </tr>\n",
       "    <tr>\n",
       "      <th>3</th>\n",
       "      <td>T9</td>\n",
       "      <td>-0.189941</td>\n",
       "    </tr>\n",
       "    <tr>\n",
       "      <th>4</th>\n",
       "      <td>RH_8</td>\n",
       "      <td>-0.157595</td>\n",
       "    </tr>\n",
       "    <tr>\n",
       "      <th>5</th>\n",
       "      <td>RH_out</td>\n",
       "      <td>-0.077671</td>\n",
       "    </tr>\n",
       "    <tr>\n",
       "      <th>6</th>\n",
       "      <td>RH_7</td>\n",
       "      <td>-0.044614</td>\n",
       "    </tr>\n",
       "    <tr>\n",
       "      <th>7</th>\n",
       "      <td>RH_9</td>\n",
       "      <td>-0.039800</td>\n",
       "    </tr>\n",
       "    <tr>\n",
       "      <th>8</th>\n",
       "      <td>T5</td>\n",
       "      <td>-0.015657</td>\n",
       "    </tr>\n",
       "    <tr>\n",
       "      <th>9</th>\n",
       "      <td>T1</td>\n",
       "      <td>-0.003281</td>\n",
       "    </tr>\n",
       "    <tr>\n",
       "      <th>10</th>\n",
       "      <td>rv2</td>\n",
       "      <td>0.000770</td>\n",
       "    </tr>\n",
       "    <tr>\n",
       "      <th>11</th>\n",
       "      <td>rv1</td>\n",
       "      <td>0.000770</td>\n",
       "    </tr>\n",
       "    <tr>\n",
       "      <th>12</th>\n",
       "      <td>Press_mm_hg</td>\n",
       "      <td>0.006839</td>\n",
       "    </tr>\n",
       "    <tr>\n",
       "      <th>13</th>\n",
       "      <td>T7</td>\n",
       "      <td>0.010319</td>\n",
       "    </tr>\n",
       "    <tr>\n",
       "      <th>14</th>\n",
       "      <td>Visibility</td>\n",
       "      <td>0.012307</td>\n",
       "    </tr>\n",
       "    <tr>\n",
       "      <th>15</th>\n",
       "      <td>RH_5</td>\n",
       "      <td>0.016006</td>\n",
       "    </tr>\n",
       "    <tr>\n",
       "      <th>16</th>\n",
       "      <td>RH_4</td>\n",
       "      <td>0.026386</td>\n",
       "    </tr>\n",
       "    <tr>\n",
       "      <th>17</th>\n",
       "      <td>T4</td>\n",
       "      <td>0.028981</td>\n",
       "    </tr>\n",
       "    <tr>\n",
       "      <th>18</th>\n",
       "      <td>Windspeed</td>\n",
       "      <td>0.029183</td>\n",
       "    </tr>\n",
       "    <tr>\n",
       "      <th>19</th>\n",
       "      <td>RH_6</td>\n",
       "      <td>0.038049</td>\n",
       "    </tr>\n",
       "    <tr>\n",
       "      <th>20</th>\n",
       "      <td>RH_3</td>\n",
       "      <td>0.096048</td>\n",
       "    </tr>\n",
       "    <tr>\n",
       "      <th>21</th>\n",
       "      <td>T8</td>\n",
       "      <td>0.101995</td>\n",
       "    </tr>\n",
       "    <tr>\n",
       "      <th>22</th>\n",
       "      <td>Tdewpoint</td>\n",
       "      <td>0.117758</td>\n",
       "    </tr>\n",
       "    <tr>\n",
       "      <th>23</th>\n",
       "      <td>T6</td>\n",
       "      <td>0.236425</td>\n",
       "    </tr>\n",
       "    <tr>\n",
       "      <th>24</th>\n",
       "      <td>T3</td>\n",
       "      <td>0.290627</td>\n",
       "    </tr>\n",
       "    <tr>\n",
       "      <th>25</th>\n",
       "      <td>RH_1</td>\n",
       "      <td>0.553547</td>\n",
       "    </tr>\n",
       "  </tbody>\n",
       "</table>\n",
       "</div>"
      ],
      "text/plain": [
       "       Features   Weights\n",
       "0          RH_2 -0.456698\n",
       "1         T_out -0.321860\n",
       "2            T2 -0.236178\n",
       "3            T9 -0.189941\n",
       "4          RH_8 -0.157595\n",
       "5        RH_out -0.077671\n",
       "6          RH_7 -0.044614\n",
       "7          RH_9 -0.039800\n",
       "8            T5 -0.015657\n",
       "9            T1 -0.003281\n",
       "10          rv2  0.000770\n",
       "11          rv1  0.000770\n",
       "12  Press_mm_hg  0.006839\n",
       "13           T7  0.010319\n",
       "14   Visibility  0.012307\n",
       "15         RH_5  0.016006\n",
       "16         RH_4  0.026386\n",
       "17           T4  0.028981\n",
       "18    Windspeed  0.029183\n",
       "19         RH_6  0.038049\n",
       "20         RH_3  0.096048\n",
       "21           T8  0.101995\n",
       "22    Tdewpoint  0.117758\n",
       "23           T6  0.236425\n",
       "24           T3  0.290627\n",
       "25         RH_1  0.553547"
      ]
     },
     "execution_count": 8,
     "metadata": {},
     "output_type": "execute_result"
    }
   ],
   "source": [
    "def weight (model, feat, col_name):\n",
    "    weights = pd.Series(model.coef_, feat.columns).sort_values()\n",
    "    df = pd.DataFrame(weights).reset_index()\n",
    "    df.columns = [\"Features\", col_name]\n",
    "    df[col_name].round(2)\n",
    "    return df\n",
    "\n",
    "model_weights = weight(model_2, x_train, \"Weights\")\n",
    "model_weights"
   ]
  },
  {
   "cell_type": "markdown",
   "id": "1db01893",
   "metadata": {},
   "source": [
    "<h3> Question 18 </h3>Train a ridge regression model with an alpha value of 0.4. Is there any change to the root mean squared error (RMSE) when evaluated on the test set?"
   ]
  },
  {
   "cell_type": "markdown",
   "id": "f69e620d",
   "metadata": {},
   "source": [
    "Answer: No\n",
    "        \n",
    "working in the cell below: "
   ]
  },
  {
   "cell_type": "code",
   "execution_count": 9,
   "id": "7f0dc3d9",
   "metadata": {},
   "outputs": [
    {
     "name": "stdout",
     "output_type": "stream",
     "text": [
      "RMSE of the Ridge Regression Model is 0.088\n"
     ]
    }
   ],
   "source": [
    "from sklearn.linear_model import Ridge\n",
    "\n",
    "ridge_regre = Ridge(alpha=0.4)\n",
    "ridge_regre.fit(x_train, y_train)\n",
    "ridge_predict = ridge_regre.predict(x_test)\n",
    "rmse = round(mean_squared_error(y_test, ridge_predict, squared=False), 3)\n",
    "print(f\"RMSE of the Ridge Regression Model is {rmse}\")"
   ]
  },
  {
   "cell_type": "markdown",
   "id": "59e8d46d",
   "metadata": {},
   "source": [
    "<h3> Question 19 </h3>Train a lasso regression model with an alpha value of 0.001 and obtain the new feature weights with it. How many of the features have non-zero feature weights?"
   ]
  },
  {
   "cell_type": "markdown",
   "id": "c4f10e6a",
   "metadata": {},
   "source": [
    "Answer: 4\n",
    "        \n",
    "working in the cell below: "
   ]
  },
  {
   "cell_type": "code",
   "execution_count": 10,
   "id": "9dcf3a90",
   "metadata": {},
   "outputs": [
    {
     "data": {
      "text/plain": [
       "Features        4\n",
       "Lasso_Weight    4\n",
       "dtype: int64"
      ]
     },
     "execution_count": 10,
     "metadata": {},
     "output_type": "execute_result"
    }
   ],
   "source": [
    "from sklearn.linear_model import (Ridge, Lasso)\n",
    "\n",
    "\n",
    "lasso_regre = Lasso(alpha=0.001)\n",
    "lasso_regre.fit(x_train, y_train)\n",
    "\n",
    "lasso_weights = weight(lasso_regre, x_train, \"Lasso_Weight\")\n",
    "(lasso_weights[lasso_weights[\"Lasso_Weight\"] != 0]).count()"
   ]
  },
  {
   "cell_type": "markdown",
   "id": "3e6a91c8",
   "metadata": {},
   "source": [
    "<h3> Question 20 </h3>What is the new RMSE with the lasso regression? (Answer should be in three (3) decimal places)"
   ]
  },
  {
   "cell_type": "markdown",
   "id": "b19e5f03",
   "metadata": {},
   "source": [
    "Answer: 0.094\n",
    "    \n",
    "working in the cell below:    "
   ]
  },
  {
   "cell_type": "code",
   "execution_count": 11,
   "id": "bd01e9fc",
   "metadata": {},
   "outputs": [
    {
     "name": "stdout",
     "output_type": "stream",
     "text": [
      "Lasso Regression RMSE is 0.094\n"
     ]
    }
   ],
   "source": [
    "lasso_pred = lasso_regre.predict(x_test)\n",
    "rmse = round(mean_squared_error(y_test, lasso_pred, squared=False), 3)\n",
    "print(f\"Lasso Regression RMSE is {rmse}\")"
   ]
  },
  {
   "cell_type": "code",
   "execution_count": null,
   "id": "c978a4bf",
   "metadata": {},
   "outputs": [],
   "source": []
  }
 ],
 "metadata": {
  "kernelspec": {
   "display_name": "Python 3 (ipykernel)",
   "language": "python",
   "name": "python3"
  },
  "language_info": {
   "codemirror_mode": {
    "name": "ipython",
    "version": 3
   },
   "file_extension": ".py",
   "mimetype": "text/x-python",
   "name": "python",
   "nbconvert_exporter": "python",
   "pygments_lexer": "ipython3",
   "version": "3.10.9"
  }
 },
 "nbformat": 4,
 "nbformat_minor": 5
}
